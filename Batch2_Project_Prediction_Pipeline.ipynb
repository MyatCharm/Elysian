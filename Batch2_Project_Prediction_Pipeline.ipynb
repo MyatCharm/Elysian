{
  "nbformat": 4,
  "nbformat_minor": 0,
  "metadata": {
    "colab": {
      "provenance": []
    },
    "kernelspec": {
      "name": "python3",
      "display_name": "Python 3"
    },
    "language_info": {
      "name": "python"
    }
  },
  "cells": [
    {
      "cell_type": "code",
      "execution_count": null,
      "metadata": {
        "id": "FMSsEn_8osyj"
      },
      "outputs": [],
      "source": [
        "import joblib\n",
        "from keras.models import load_model"
      ]
    },
    {
      "cell_type": "code",
      "source": [
        "vectorizer = joblib.load('/content/drive/MyDrive/tfidf_vectorizer.joblib')"
      ],
      "metadata": {
        "id": "bqJBH6ibo1f0"
      },
      "execution_count": null,
      "outputs": []
    },
    {
      "cell_type": "code",
      "source": [
        "model = load_model('/content/drive/MyDrive/sentiment_analysis_model.h5')"
      ],
      "metadata": {
        "id": "4cP8mL8EpjUU"
      },
      "execution_count": null,
      "outputs": []
    },
    {
      "cell_type": "code",
      "source": [
        "import numpy as np\n",
        "\n",
        "def predict_sentiment(text):\n",
        "\n",
        "    text_tfidf = vectorizer.transform([text])\n",
        "    text_tfidf_reordered = text_tfidf.copy()\n",
        "    text_tfidf_reordered.sort_indices()\n",
        "\n",
        "    text_tfidf_reshaped = text_tfidf_reordered.toarray().reshape(text_tfidf_reordered.shape[0], 1, text_tfidf_reordered.shape[1])\n",
        "\n",
        "    prediction = model.predict(text_tfidf_reshaped)\n",
        "\n",
        "    return np.argmax(prediction)\n"
      ],
      "metadata": {
        "id": "zlt76WYmpqDi"
      },
      "execution_count": null,
      "outputs": []
    },
    {
      "cell_type": "code",
      "source": [
        "text = \"This movie is great!\"\n",
        "sentiment = predict_sentiment(text)\n",
        "if sentiment == 1:\n",
        "    print(\"Positive sentiment\")\n",
        "else:\n",
        "    print(\"Negative sentiment\")"
      ],
      "metadata": {
        "colab": {
          "base_uri": "https://localhost:8080/"
        },
        "id": "xIcvaevQpuOT",
        "outputId": "7c740189-b561-45d2-da92-615c343e0fb9"
      },
      "execution_count": null,
      "outputs": [
        {
          "output_type": "stream",
          "name": "stdout",
          "text": [
            "1/1 [==============================] - 0s 31ms/step\n",
            "Positive sentiment\n"
          ]
        }
      ]
    }
  ]
}