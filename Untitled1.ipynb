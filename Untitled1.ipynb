{
 "cells": [
  {
   "cell_type": "code",
   "execution_count": 11,
   "id": "1f61f797",
   "metadata": {
    "ExecuteTime": {
     "end_time": "2024-02-25T11:24:19.123801Z",
     "start_time": "2024-02-25T11:24:19.120929Z"
    }
   },
   "outputs": [],
   "source": [
    "import pandas as pd\n",
    "\n",
    "from sklearn.pipeline import Pipeline\n",
    "\n",
    "from sklearn.feature_extraction.text import CountVectorizer\n",
    "from sklearn.linear_model import LogisticRegression"
   ]
  },
  {
   "cell_type": "code",
   "execution_count": 2,
   "id": "00a252fb",
   "metadata": {
    "ExecuteTime": {
     "end_time": "2024-02-25T11:19:49.616783Z",
     "start_time": "2024-02-25T11:19:49.186321Z"
    }
   },
   "outputs": [],
   "source": [
    "df = pd.read_csv(\"movie_data.csv\")"
   ]
  },
  {
   "cell_type": "code",
   "execution_count": 4,
   "id": "8a704c37",
   "metadata": {
    "ExecuteTime": {
     "end_time": "2024-02-25T11:20:13.176416Z",
     "start_time": "2024-02-25T11:20:13.172528Z"
    }
   },
   "outputs": [],
   "source": [
    "pd.set_option(\"max.colwidth\",0)"
   ]
  },
  {
   "cell_type": "code",
   "execution_count": 6,
   "id": "cb34c5d9",
   "metadata": {
    "ExecuteTime": {
     "end_time": "2024-02-25T11:21:29.703510Z",
     "start_time": "2024-02-25T11:21:29.628513Z"
    },
    "scrolled": true
   },
   "outputs": [],
   "source": [
    "df[\"review\"] = df.review.apply(lambda x:x.replace(\"<br /><br />\",\"\"))"
   ]
  },
  {
   "cell_type": "code",
   "execution_count": 8,
   "id": "920c7ac9",
   "metadata": {
    "ExecuteTime": {
     "end_time": "2024-02-25T11:21:53.186864Z",
     "start_time": "2024-02-25T11:21:53.175470Z"
    },
    "scrolled": true
   },
   "outputs": [
    {
     "data": {
      "text/html": [
       "<div>\n",
       "<style scoped>\n",
       "    .dataframe tbody tr th:only-of-type {\n",
       "        vertical-align: middle;\n",
       "    }\n",
       "\n",
       "    .dataframe tbody tr th {\n",
       "        vertical-align: top;\n",
       "    }\n",
       "\n",
       "    .dataframe thead th {\n",
       "        text-align: right;\n",
       "    }\n",
       "</style>\n",
       "<table border=\"1\" class=\"dataframe\">\n",
       "  <thead>\n",
       "    <tr style=\"text-align: right;\">\n",
       "      <th></th>\n",
       "      <th>review</th>\n",
       "      <th>sentiment</th>\n",
       "    </tr>\n",
       "  </thead>\n",
       "  <tbody>\n",
       "    <tr>\n",
       "      <th>44251</th>\n",
       "      <td>This is a gem of a film, Slapstick violence a-plenty, Simon pegg and Green Spew.A suspicious looking power plant and an incontrollable motorbike add to this stonker. If you haven't seen this I can highly recommend it, maybe not quite as good as bottom but not far short.If you have never seen a man impaled by the nose on two hooks then what are you waiting for buy this film.I didn't even see the twist at the end coming when it turns out that Ritchie and Eddie are both ghosts.Feeb - 1 boiled egg.</td>\n",
       "      <td>1</td>\n",
       "    </tr>\n",
       "    <tr>\n",
       "      <th>12530</th>\n",
       "      <td>This film is great! Being a fan of \"The Comic Strip Presents...\" I just knew I would love this film. And love it I do. I finally got round to buying a copy of this film early this year. However I was annoyed to find that it had been cut! So I'll keep looking at car boot sales for the original version.Anyway, the film is about Dennis Carter (Adrian Edmondson), who tries to impress his girlfriend (Dawn French) by claiming to be a drug dealer. However, Dennis is overheard bragging one night in the pub and nicked! So Dennis turns supergrass but the trouble is he doesn't know anything and starts to make up lies and dig himself into an even deeper hole! The irony of all this is that there is drug smuggling going on down in Devon.This film is not as funny as I expected but it is still a really good film with some good laughs and a great soundtrack. It also has the best scene ever in a British film (Robbie Coltrane's walk across the pier set to \"Two Tribes\" by Frankie Goes To Hollywood.So if you are a fan of \"The Comic Strip Presents...\", of any of the cast members, or a fan of British comedy see it A.S.A.P!!!</td>\n",
       "      <td>1</td>\n",
       "    </tr>\n",
       "    <tr>\n",
       "      <th>45326</th>\n",
       "      <td>THE LAST WAVE is never going to win over the mainstream audience. It is a slow-moving but fascinating film for those who are willing to go along with it. An Australian properties lawyer is asked to take on the case of five aborigines accused in the murder of one of their own. All sorts of portents and omens soon pop up, as the man's death involves a tribal issue that was not meant for white man's court, and pretty soon the lawyer is having trouble distinguishing reality from fantasy. It looks like the end of the world may be at hand, and he and the aborigines may know this but no one else does. Richard Chamberlain as the lawyer is at his peak here. David Guptil, a familiar face from several other Australian flicks and a decent actor, is one of the five aborigines on trial. THE LAST WAVE is simply not for everyone, anymore than is MAGNOLIA (both happen to have strange things falling from the sky). Check it out on a slow Saturday night.</td>\n",
       "      <td>1</td>\n",
       "    </tr>\n",
       "  </tbody>\n",
       "</table>\n",
       "</div>"
      ],
      "text/plain": [
       "                                                                                                                                                                                                                                                                                                                                                                                                                                                                                                                                                                                                                                                                                                                                                                                                                                                                                                                                                                                                                                                                                                                                                                review  \\\n",
       "44251  This is a gem of a film, Slapstick violence a-plenty, Simon pegg and Green Spew.A suspicious looking power plant and an incontrollable motorbike add to this stonker. If you haven't seen this I can highly recommend it, maybe not quite as good as bottom but not far short.If you have never seen a man impaled by the nose on two hooks then what are you waiting for buy this film.I didn't even see the twist at the end coming when it turns out that Ritchie and Eddie are both ghosts.Feeb - 1 boiled egg.                                                                                                                                                                                                                                                                                                                                                                                                                                                                                                                                                                                                                                               \n",
       "12530  This film is great! Being a fan of \"The Comic Strip Presents...\" I just knew I would love this film. And love it I do. I finally got round to buying a copy of this film early this year. However I was annoyed to find that it had been cut! So I'll keep looking at car boot sales for the original version.Anyway, the film is about Dennis Carter (Adrian Edmondson), who tries to impress his girlfriend (Dawn French) by claiming to be a drug dealer. However, Dennis is overheard bragging one night in the pub and nicked! So Dennis turns supergrass but the trouble is he doesn't know anything and starts to make up lies and dig himself into an even deeper hole! The irony of all this is that there is drug smuggling going on down in Devon.This film is not as funny as I expected but it is still a really good film with some good laughs and a great soundtrack. It also has the best scene ever in a British film (Robbie Coltrane's walk across the pier set to \"Two Tribes\" by Frankie Goes To Hollywood.So if you are a fan of \"The Comic Strip Presents...\", of any of the cast members, or a fan of British comedy see it A.S.A.P!!!   \n",
       "45326  THE LAST WAVE is never going to win over the mainstream audience. It is a slow-moving but fascinating film for those who are willing to go along with it. An Australian properties lawyer is asked to take on the case of five aborigines accused in the murder of one of their own. All sorts of portents and omens soon pop up, as the man's death involves a tribal issue that was not meant for white man's court, and pretty soon the lawyer is having trouble distinguishing reality from fantasy. It looks like the end of the world may be at hand, and he and the aborigines may know this but no one else does. Richard Chamberlain as the lawyer is at his peak here. David Guptil, a familiar face from several other Australian flicks and a decent actor, is one of the five aborigines on trial. THE LAST WAVE is simply not for everyone, anymore than is MAGNOLIA (both happen to have strange things falling from the sky). Check it out on a slow Saturday night.                                                                                                                                                                              \n",
       "\n",
       "       sentiment  \n",
       "44251  1          \n",
       "12530  1          \n",
       "45326  1          "
      ]
     },
     "execution_count": 8,
     "metadata": {},
     "output_type": "execute_result"
    }
   ],
   "source": [
    "df.sample(3)"
   ]
  },
  {
   "cell_type": "code",
   "execution_count": null,
   "id": "66df796a",
   "metadata": {},
   "outputs": [],
   "source": [
    "CountVectorizer\n",
    "\n",
    "LogistcRegression"
   ]
  },
  {
   "cell_type": "code",
   "execution_count": 12,
   "id": "dc8dd2de",
   "metadata": {
    "ExecuteTime": {
     "end_time": "2024-02-25T11:24:24.886984Z",
     "start_time": "2024-02-25T11:24:24.882209Z"
    }
   },
   "outputs": [],
   "source": []
  },
  {
   "cell_type": "code",
   "execution_count": 13,
   "id": "093916ff",
   "metadata": {
    "ExecuteTime": {
     "end_time": "2024-02-25T11:24:50.020746Z",
     "start_time": "2024-02-25T11:24:50.018281Z"
    }
   },
   "outputs": [],
   "source": [
    "from sklearn.model_selection import train_test_split"
   ]
  },
  {
   "cell_type": "code",
   "execution_count": 14,
   "id": "aadf6c01",
   "metadata": {
    "ExecuteTime": {
     "end_time": "2024-02-25T11:25:30.569339Z",
     "start_time": "2024-02-25T11:25:30.549440Z"
    }
   },
   "outputs": [],
   "source": [
    "X_train, X_test, y_train, y_test = train_test_split(df[\"review\"], df[\"sentiment\"], random_state=42, test_size=0.2)"
   ]
  },
  {
   "cell_type": "code",
   "execution_count": 15,
   "id": "db083faf",
   "metadata": {
    "ExecuteTime": {
     "end_time": "2024-02-25T11:25:45.182462Z",
     "start_time": "2024-02-25T11:25:45.177640Z"
    }
   },
   "outputs": [
    {
     "data": {
      "text/plain": [
       "(40000,)"
      ]
     },
     "execution_count": 15,
     "metadata": {},
     "output_type": "execute_result"
    }
   ],
   "source": [
    "X_train.shape"
   ]
  },
  {
   "cell_type": "code",
   "execution_count": 16,
   "id": "362a36dd",
   "metadata": {
    "ExecuteTime": {
     "end_time": "2024-02-25T11:25:50.771726Z",
     "start_time": "2024-02-25T11:25:50.767821Z"
    }
   },
   "outputs": [
    {
     "data": {
      "text/plain": [
       "(40000,)"
      ]
     },
     "execution_count": 16,
     "metadata": {},
     "output_type": "execute_result"
    }
   ],
   "source": [
    "y_train.shape"
   ]
  },
  {
   "cell_type": "code",
   "execution_count": 17,
   "id": "7a93930c",
   "metadata": {
    "ExecuteTime": {
     "end_time": "2024-02-25T11:26:13.134991Z",
     "start_time": "2024-02-25T11:26:09.293065Z"
    }
   },
   "outputs": [
    {
     "name": "stderr",
     "output_type": "stream",
     "text": [
      "/Users/thetsu/anaconda3/lib/python3.11/site-packages/sklearn/linear_model/_logistic.py:460: ConvergenceWarning: lbfgs failed to converge (status=1):\n",
      "STOP: TOTAL NO. of ITERATIONS REACHED LIMIT.\n",
      "\n",
      "Increase the number of iterations (max_iter) or scale the data as shown in:\n",
      "    https://scikit-learn.org/stable/modules/preprocessing.html\n",
      "Please also refer to the documentation for alternative solver options:\n",
      "    https://scikit-learn.org/stable/modules/linear_model.html#logistic-regression\n",
      "  n_iter_i = _check_optimize_result(\n"
     ]
    },
    {
     "data": {
      "text/html": [
       "<style>#sk-container-id-1 {color: black;}#sk-container-id-1 pre{padding: 0;}#sk-container-id-1 div.sk-toggleable {background-color: white;}#sk-container-id-1 label.sk-toggleable__label {cursor: pointer;display: block;width: 100%;margin-bottom: 0;padding: 0.3em;box-sizing: border-box;text-align: center;}#sk-container-id-1 label.sk-toggleable__label-arrow:before {content: \"▸\";float: left;margin-right: 0.25em;color: #696969;}#sk-container-id-1 label.sk-toggleable__label-arrow:hover:before {color: black;}#sk-container-id-1 div.sk-estimator:hover label.sk-toggleable__label-arrow:before {color: black;}#sk-container-id-1 div.sk-toggleable__content {max-height: 0;max-width: 0;overflow: hidden;text-align: left;background-color: #f0f8ff;}#sk-container-id-1 div.sk-toggleable__content pre {margin: 0.2em;color: black;border-radius: 0.25em;background-color: #f0f8ff;}#sk-container-id-1 input.sk-toggleable__control:checked~div.sk-toggleable__content {max-height: 200px;max-width: 100%;overflow: auto;}#sk-container-id-1 input.sk-toggleable__control:checked~label.sk-toggleable__label-arrow:before {content: \"▾\";}#sk-container-id-1 div.sk-estimator input.sk-toggleable__control:checked~label.sk-toggleable__label {background-color: #d4ebff;}#sk-container-id-1 div.sk-label input.sk-toggleable__control:checked~label.sk-toggleable__label {background-color: #d4ebff;}#sk-container-id-1 input.sk-hidden--visually {border: 0;clip: rect(1px 1px 1px 1px);clip: rect(1px, 1px, 1px, 1px);height: 1px;margin: -1px;overflow: hidden;padding: 0;position: absolute;width: 1px;}#sk-container-id-1 div.sk-estimator {font-family: monospace;background-color: #f0f8ff;border: 1px dotted black;border-radius: 0.25em;box-sizing: border-box;margin-bottom: 0.5em;}#sk-container-id-1 div.sk-estimator:hover {background-color: #d4ebff;}#sk-container-id-1 div.sk-parallel-item::after {content: \"\";width: 100%;border-bottom: 1px solid gray;flex-grow: 1;}#sk-container-id-1 div.sk-label:hover label.sk-toggleable__label {background-color: #d4ebff;}#sk-container-id-1 div.sk-serial::before {content: \"\";position: absolute;border-left: 1px solid gray;box-sizing: border-box;top: 0;bottom: 0;left: 50%;z-index: 0;}#sk-container-id-1 div.sk-serial {display: flex;flex-direction: column;align-items: center;background-color: white;padding-right: 0.2em;padding-left: 0.2em;position: relative;}#sk-container-id-1 div.sk-item {position: relative;z-index: 1;}#sk-container-id-1 div.sk-parallel {display: flex;align-items: stretch;justify-content: center;background-color: white;position: relative;}#sk-container-id-1 div.sk-item::before, #sk-container-id-1 div.sk-parallel-item::before {content: \"\";position: absolute;border-left: 1px solid gray;box-sizing: border-box;top: 0;bottom: 0;left: 50%;z-index: -1;}#sk-container-id-1 div.sk-parallel-item {display: flex;flex-direction: column;z-index: 1;position: relative;background-color: white;}#sk-container-id-1 div.sk-parallel-item:first-child::after {align-self: flex-end;width: 50%;}#sk-container-id-1 div.sk-parallel-item:last-child::after {align-self: flex-start;width: 50%;}#sk-container-id-1 div.sk-parallel-item:only-child::after {width: 0;}#sk-container-id-1 div.sk-dashed-wrapped {border: 1px dashed gray;margin: 0 0.4em 0.5em 0.4em;box-sizing: border-box;padding-bottom: 0.4em;background-color: white;}#sk-container-id-1 div.sk-label label {font-family: monospace;font-weight: bold;display: inline-block;line-height: 1.2em;}#sk-container-id-1 div.sk-label-container {text-align: center;}#sk-container-id-1 div.sk-container {/* jupyter's `normalize.less` sets `[hidden] { display: none; }` but bootstrap.min.css set `[hidden] { display: none !important; }` so we also need the `!important` here to be able to override the default hidden behavior on the sphinx rendered scikit-learn.org. See: https://github.com/scikit-learn/scikit-learn/issues/21755 */display: inline-block !important;position: relative;}#sk-container-id-1 div.sk-text-repr-fallback {display: none;}</style><div id=\"sk-container-id-1\" class=\"sk-top-container\"><div class=\"sk-text-repr-fallback\"><pre>Pipeline(steps=[(&#x27;vec&#x27;, CountVectorizer()), (&#x27;lr&#x27;, LogisticRegression())])</pre><b>In a Jupyter environment, please rerun this cell to show the HTML representation or trust the notebook. <br />On GitHub, the HTML representation is unable to render, please try loading this page with nbviewer.org.</b></div><div class=\"sk-container\" hidden><div class=\"sk-item sk-dashed-wrapped\"><div class=\"sk-label-container\"><div class=\"sk-label sk-toggleable\"><input class=\"sk-toggleable__control sk-hidden--visually\" id=\"sk-estimator-id-1\" type=\"checkbox\" ><label for=\"sk-estimator-id-1\" class=\"sk-toggleable__label sk-toggleable__label-arrow\">Pipeline</label><div class=\"sk-toggleable__content\"><pre>Pipeline(steps=[(&#x27;vec&#x27;, CountVectorizer()), (&#x27;lr&#x27;, LogisticRegression())])</pre></div></div></div><div class=\"sk-serial\"><div class=\"sk-item\"><div class=\"sk-estimator sk-toggleable\"><input class=\"sk-toggleable__control sk-hidden--visually\" id=\"sk-estimator-id-2\" type=\"checkbox\" ><label for=\"sk-estimator-id-2\" class=\"sk-toggleable__label sk-toggleable__label-arrow\">CountVectorizer</label><div class=\"sk-toggleable__content\"><pre>CountVectorizer()</pre></div></div></div><div class=\"sk-item\"><div class=\"sk-estimator sk-toggleable\"><input class=\"sk-toggleable__control sk-hidden--visually\" id=\"sk-estimator-id-3\" type=\"checkbox\" ><label for=\"sk-estimator-id-3\" class=\"sk-toggleable__label sk-toggleable__label-arrow\">LogisticRegression</label><div class=\"sk-toggleable__content\"><pre>LogisticRegression()</pre></div></div></div></div></div></div></div>"
      ],
      "text/plain": [
       "Pipeline(steps=[('vec', CountVectorizer()), ('lr', LogisticRegression())])"
      ]
     },
     "execution_count": 17,
     "metadata": {},
     "output_type": "execute_result"
    }
   ],
   "source": [
    "pipeline = Pipeline([\n",
    "    (\"vec\", CountVectorizer()),\n",
    "    (\"lr\", LogisticRegression())\n",
    "])\n",
    "\n",
    "## model training\n",
    "pipeline.fit(X_train, y_train)"
   ]
  },
  {
   "cell_type": "code",
   "execution_count": 18,
   "id": "90d3d265",
   "metadata": {
    "ExecuteTime": {
     "end_time": "2024-02-25T11:27:04.615423Z",
     "start_time": "2024-02-25T11:27:04.038691Z"
    }
   },
   "outputs": [],
   "source": [
    "y_pred = pipeline.predict(X_test)"
   ]
  },
  {
   "cell_type": "code",
   "execution_count": 19,
   "id": "a513528e",
   "metadata": {
    "ExecuteTime": {
     "end_time": "2024-02-25T11:27:08.498089Z",
     "start_time": "2024-02-25T11:27:08.493533Z"
    }
   },
   "outputs": [
    {
     "data": {
      "text/plain": [
       "array([0, 0, 1, ..., 0, 1, 0])"
      ]
     },
     "execution_count": 19,
     "metadata": {},
     "output_type": "execute_result"
    }
   ],
   "source": [
    "y_pred"
   ]
  },
  {
   "cell_type": "code",
   "execution_count": 20,
   "id": "9b098aab",
   "metadata": {
    "ExecuteTime": {
     "end_time": "2024-02-25T11:27:26.166598Z",
     "start_time": "2024-02-25T11:27:26.163560Z"
    }
   },
   "outputs": [],
   "source": [
    "from sklearn.metrics import accuracy_score, confusion_matrix, classification_report"
   ]
  },
  {
   "cell_type": "code",
   "execution_count": 21,
   "id": "675941e5",
   "metadata": {
    "ExecuteTime": {
     "end_time": "2024-02-25T11:27:36.720949Z",
     "start_time": "2024-02-25T11:27:36.713870Z"
    }
   },
   "outputs": [
    {
     "data": {
      "text/plain": [
       "0.8901"
      ]
     },
     "execution_count": 21,
     "metadata": {},
     "output_type": "execute_result"
    }
   ],
   "source": [
    "accuracy_score(y_test, y_pred)"
   ]
  },
  {
   "cell_type": "code",
   "execution_count": 22,
   "id": "3390c62d",
   "metadata": {
    "ExecuteTime": {
     "end_time": "2024-02-25T11:27:46.409752Z",
     "start_time": "2024-02-25T11:27:46.402389Z"
    }
   },
   "outputs": [
    {
     "data": {
      "text/plain": [
       "array([[4470,  564],\n",
       "       [ 535, 4431]])"
      ]
     },
     "execution_count": 22,
     "metadata": {},
     "output_type": "execute_result"
    }
   ],
   "source": [
    "confusion_matrix(y_test, y_pred)"
   ]
  },
  {
   "cell_type": "code",
   "execution_count": 24,
   "id": "d642b9ef",
   "metadata": {
    "ExecuteTime": {
     "end_time": "2024-02-25T11:28:02.582248Z",
     "start_time": "2024-02-25T11:28:02.558608Z"
    }
   },
   "outputs": [
    {
     "name": "stdout",
     "output_type": "stream",
     "text": [
      "              precision    recall  f1-score   support\n",
      "\n",
      "           0       0.89      0.89      0.89      5034\n",
      "           1       0.89      0.89      0.89      4966\n",
      "\n",
      "    accuracy                           0.89     10000\n",
      "   macro avg       0.89      0.89      0.89     10000\n",
      "weighted avg       0.89      0.89      0.89     10000\n",
      "\n"
     ]
    }
   ],
   "source": [
    "print(classification_report(y_test, y_pred))"
   ]
  },
  {
   "cell_type": "code",
   "execution_count": null,
   "id": "62a746ee",
   "metadata": {},
   "outputs": [],
   "source": []
  }
 ],
 "metadata": {
  "kernelspec": {
   "display_name": "Python 3 (ipykernel)",
   "language": "python",
   "name": "python3"
  },
  "language_info": {
   "codemirror_mode": {
    "name": "ipython",
    "version": 3
   },
   "file_extension": ".py",
   "mimetype": "text/x-python",
   "name": "python",
   "nbconvert_exporter": "python",
   "pygments_lexer": "ipython3",
   "version": "3.11.5"
  },
  "toc": {
   "base_numbering": 1,
   "nav_menu": {},
   "number_sections": true,
   "sideBar": true,
   "skip_h1_title": false,
   "title_cell": "Table of Contents",
   "title_sidebar": "Contents",
   "toc_cell": false,
   "toc_position": {},
   "toc_section_display": true,
   "toc_window_display": false
  }
 },
 "nbformat": 4,
 "nbformat_minor": 5
}
