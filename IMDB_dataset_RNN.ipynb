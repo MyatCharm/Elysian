{
 "cells": [
  {
   "cell_type": "markdown",
   "id": "fdee417c",
   "metadata": {},
   "source": [
    "# Import and Load Data"
   ]
  },
  {
   "cell_type": "code",
   "execution_count": 1,
   "id": "1f61f797",
   "metadata": {
    "ExecuteTime": {
     "end_time": "2024-03-16T08:17:24.055613Z",
     "start_time": "2024-03-16T08:17:20.239631Z"
    }
   },
   "outputs": [],
   "source": [
    "import re\n",
    "import string\n",
    "import joblib\n",
    "import numpy as np\n",
    "import pandas as pd\n",
    "import matplotlib.pyplot as plt\n",
    "from string import punctuation\n",
    "\n",
    "from gensim.models import Word2Vec\n",
    "from nltk.corpus import stopwords\n",
    "from nltk import word_tokenize\n",
    "from nltk.stem import WordNetLemmatizer\n",
    "\n",
    "from sklearn.preprocessing import LabelEncoder\n",
    "from sklearn.model_selection import train_test_split\n",
    "\n",
    "from tensorflow.keras.preprocessing.text import Tokenizer\n",
    "from tensorflow.keras import models, layers,  Sequential\n",
    "from tensorflow.keras.callbacks import EarlyStopping\n",
    "from tensorflow.keras.utils import pad_sequences\n",
    "from tensorflow.keras.layers import Embedding, LSTM, Dense, SimpleRNN"
   ]
  },
  {
   "cell_type": "code",
   "execution_count": 2,
   "id": "00a252fb",
   "metadata": {
    "ExecuteTime": {
     "end_time": "2024-03-16T08:17:24.471227Z",
     "start_time": "2024-03-16T08:17:24.056600Z"
    }
   },
   "outputs": [],
   "source": [
    "df = pd.read_csv(\"IMDB_Dataset.csv\")"
   ]
  },
  {
   "cell_type": "code",
   "execution_count": 3,
   "id": "8a704c37",
   "metadata": {
    "ExecuteTime": {
     "end_time": "2024-03-16T08:17:24.474364Z",
     "start_time": "2024-03-16T08:17:24.472680Z"
    }
   },
   "outputs": [],
   "source": [
    "pd.set_option(\"max.colwidth\",0)"
   ]
  },
  {
   "cell_type": "code",
   "execution_count": 4,
   "id": "920c7ac9",
   "metadata": {
    "ExecuteTime": {
     "end_time": "2024-03-16T08:17:24.482521Z",
     "start_time": "2024-03-16T08:17:24.475080Z"
    },
    "scrolled": true
   },
   "outputs": [
    {
     "data": {
      "text/html": [
       "<div>\n",
       "<style scoped>\n",
       "    .dataframe tbody tr th:only-of-type {\n",
       "        vertical-align: middle;\n",
       "    }\n",
       "\n",
       "    .dataframe tbody tr th {\n",
       "        vertical-align: top;\n",
       "    }\n",
       "\n",
       "    .dataframe thead th {\n",
       "        text-align: right;\n",
       "    }\n",
       "</style>\n",
       "<table border=\"1\" class=\"dataframe\">\n",
       "  <thead>\n",
       "    <tr style=\"text-align: right;\">\n",
       "      <th></th>\n",
       "      <th>review</th>\n",
       "      <th>sentiment</th>\n",
       "    </tr>\n",
       "  </thead>\n",
       "  <tbody>\n",
       "    <tr>\n",
       "      <th>0</th>\n",
       "      <td>One of the other reviewers has mentioned that after watching just 1 Oz episode you'll be hooked. They are right, as this is exactly what happened with me.&lt;br /&gt;&lt;br /&gt;The first thing that struck me about Oz was its brutality and unflinching scenes of violence, which set in right from the word GO. Trust me, this is not a show for the faint hearted or timid. This show pulls no punches with regards to drugs, sex or violence. Its is hardcore, in the classic use of the word.&lt;br /&gt;&lt;br /&gt;It is called OZ as that is the nickname given to the Oswald Maximum Security State Penitentary. It focuses mainly on Emerald City, an experimental section of the prison where all the cells have glass fronts and face inwards, so privacy is not high on the agenda. Em City is home to many..Aryans, Muslims, gangstas, Latinos, Christians, Italians, Irish and more....so scuffles, death stares, dodgy dealings and shady agreements are never far away.&lt;br /&gt;&lt;br /&gt;I would say the main appeal of the show is due to the fact that it goes where other shows wouldn't dare. Forget pretty pictures painted for mainstream audiences, forget charm, forget romance...OZ doesn't mess around. The first episode I ever saw struck me as so nasty it was surreal, I couldn't say I was ready for it, but as I watched more, I developed a taste for Oz, and got accustomed to the high levels of graphic violence. Not just violence, but injustice (crooked guards who'll be sold out for a nickel, inmates who'll kill on order and get away with it, well mannered, middle class inmates being turned into prison bitches due to their lack of street skills or prison experience) Watching Oz, you may become comfortable with what is uncomfortable viewing....thats if you can get in touch with your darker side.</td>\n",
       "      <td>positive</td>\n",
       "    </tr>\n",
       "    <tr>\n",
       "      <th>1</th>\n",
       "      <td>A wonderful little production. &lt;br /&gt;&lt;br /&gt;The filming technique is very unassuming- very old-time-BBC fashion and gives a comforting, and sometimes discomforting, sense of realism to the entire piece. &lt;br /&gt;&lt;br /&gt;The actors are extremely well chosen- Michael Sheen not only \"has got all the polari\" but he has all the voices down pat too! You can truly see the seamless editing guided by the references to Williams' diary entries, not only is it well worth the watching but it is a terrificly written and performed piece. A masterful production about one of the great master's of comedy and his life. &lt;br /&gt;&lt;br /&gt;The realism really comes home with the little things: the fantasy of the guard which, rather than use the traditional 'dream' techniques remains solid then disappears. It plays on our knowledge and our senses, particularly with the scenes concerning Orton and Halliwell and the sets (particularly of their flat with Halliwell's murals decorating every surface) are terribly well done.</td>\n",
       "      <td>positive</td>\n",
       "    </tr>\n",
       "    <tr>\n",
       "      <th>2</th>\n",
       "      <td>I thought this was a wonderful way to spend time on a too hot summer weekend, sitting in the air conditioned theater and watching a light-hearted comedy. The plot is simplistic, but the dialogue is witty and the characters are likable (even the well bread suspected serial killer). While some may be disappointed when they realize this is not Match Point 2: Risk Addiction, I thought it was proof that Woody Allen is still fully in control of the style many of us have grown to love.&lt;br /&gt;&lt;br /&gt;This was the most I'd laughed at one of Woody's comedies in years (dare I say a decade?). While I've never been impressed with Scarlet Johanson, in this she managed to tone down her \"sexy\" image and jumped right into a average, but spirited young woman.&lt;br /&gt;&lt;br /&gt;This may not be the crown jewel of his career, but it was wittier than \"Devil Wears Prada\" and more interesting than \"Superman\" a great comedy to go see with friends.</td>\n",
       "      <td>positive</td>\n",
       "    </tr>\n",
       "    <tr>\n",
       "      <th>3</th>\n",
       "      <td>Basically there's a family where a little boy (Jake) thinks there's a zombie in his closet &amp; his parents are fighting all the time.&lt;br /&gt;&lt;br /&gt;This movie is slower than a soap opera... and suddenly, Jake decides to become Rambo and kill the zombie.&lt;br /&gt;&lt;br /&gt;OK, first of all when you're going to make a film you must Decide if its a thriller or a drama! As a drama the movie is watchable. Parents are divorcing &amp; arguing like in real life. And then we have Jake with his closet which totally ruins all the film! I expected to see a BOOGEYMAN similar movie, and instead i watched a drama with some meaningless thriller spots.&lt;br /&gt;&lt;br /&gt;3 out of 10 just for the well playing parents &amp; descent dialogs. As for the shots with Jake: just ignore them.</td>\n",
       "      <td>negative</td>\n",
       "    </tr>\n",
       "    <tr>\n",
       "      <th>4</th>\n",
       "      <td>Petter Mattei's \"Love in the Time of Money\" is a visually stunning film to watch. Mr. Mattei offers us a vivid portrait about human relations. This is a movie that seems to be telling us what money, power and success do to people in the different situations we encounter. &lt;br /&gt;&lt;br /&gt;This being a variation on the Arthur Schnitzler's play about the same theme, the director transfers the action to the present time New York where all these different characters meet and connect. Each one is connected in one way, or another to the next person, but no one seems to know the previous point of contact. Stylishly, the film has a sophisticated luxurious look. We are taken to see how these people live and the world they live in their own habitat.&lt;br /&gt;&lt;br /&gt;The only thing one gets out of all these souls in the picture is the different stages of loneliness each one inhabits. A big city is not exactly the best place in which human relations find sincere fulfillment, as one discerns is the case with most of the people we encounter.&lt;br /&gt;&lt;br /&gt;The acting is good under Mr. Mattei's direction. Steve Buscemi, Rosario Dawson, Carol Kane, Michael Imperioli, Adrian Grenier, and the rest of the talented cast, make these characters come alive.&lt;br /&gt;&lt;br /&gt;We wish Mr. Mattei good luck and await anxiously for his next work.</td>\n",
       "      <td>positive</td>\n",
       "    </tr>\n",
       "  </tbody>\n",
       "</table>\n",
       "</div>"
      ],
      "text/plain": [
       "                                                                                                                                                                                                                                                                                                                                                                                                                                                                                                                                                                                                                                                                                                                                                                                                                                                                                                                                                                                                                                                                                                                                                                                                                                                                                                                                                                                                                                                                                                                                                                                                                                                                                                                                                                                                                              review  \\\n",
       "0  One of the other reviewers has mentioned that after watching just 1 Oz episode you'll be hooked. They are right, as this is exactly what happened with me.<br /><br />The first thing that struck me about Oz was its brutality and unflinching scenes of violence, which set in right from the word GO. Trust me, this is not a show for the faint hearted or timid. This show pulls no punches with regards to drugs, sex or violence. Its is hardcore, in the classic use of the word.<br /><br />It is called OZ as that is the nickname given to the Oswald Maximum Security State Penitentary. It focuses mainly on Emerald City, an experimental section of the prison where all the cells have glass fronts and face inwards, so privacy is not high on the agenda. Em City is home to many..Aryans, Muslims, gangstas, Latinos, Christians, Italians, Irish and more....so scuffles, death stares, dodgy dealings and shady agreements are never far away.<br /><br />I would say the main appeal of the show is due to the fact that it goes where other shows wouldn't dare. Forget pretty pictures painted for mainstream audiences, forget charm, forget romance...OZ doesn't mess around. The first episode I ever saw struck me as so nasty it was surreal, I couldn't say I was ready for it, but as I watched more, I developed a taste for Oz, and got accustomed to the high levels of graphic violence. Not just violence, but injustice (crooked guards who'll be sold out for a nickel, inmates who'll kill on order and get away with it, well mannered, middle class inmates being turned into prison bitches due to their lack of street skills or prison experience) Watching Oz, you may become comfortable with what is uncomfortable viewing....thats if you can get in touch with your darker side.   \n",
       "1  A wonderful little production. <br /><br />The filming technique is very unassuming- very old-time-BBC fashion and gives a comforting, and sometimes discomforting, sense of realism to the entire piece. <br /><br />The actors are extremely well chosen- Michael Sheen not only \"has got all the polari\" but he has all the voices down pat too! You can truly see the seamless editing guided by the references to Williams' diary entries, not only is it well worth the watching but it is a terrificly written and performed piece. A masterful production about one of the great master's of comedy and his life. <br /><br />The realism really comes home with the little things: the fantasy of the guard which, rather than use the traditional 'dream' techniques remains solid then disappears. It plays on our knowledge and our senses, particularly with the scenes concerning Orton and Halliwell and the sets (particularly of their flat with Halliwell's murals decorating every surface) are terribly well done.                                                                                                                                                                                                                                                                                                                                                                                                                                                                                                                                                                                                                                                                                                                                                                                              \n",
       "2  I thought this was a wonderful way to spend time on a too hot summer weekend, sitting in the air conditioned theater and watching a light-hearted comedy. The plot is simplistic, but the dialogue is witty and the characters are likable (even the well bread suspected serial killer). While some may be disappointed when they realize this is not Match Point 2: Risk Addiction, I thought it was proof that Woody Allen is still fully in control of the style many of us have grown to love.<br /><br />This was the most I'd laughed at one of Woody's comedies in years (dare I say a decade?). While I've never been impressed with Scarlet Johanson, in this she managed to tone down her \"sexy\" image and jumped right into a average, but spirited young woman.<br /><br />This may not be the crown jewel of his career, but it was wittier than \"Devil Wears Prada\" and more interesting than \"Superman\" a great comedy to go see with friends.                                                                                                                                                                                                                                                                                                                                                                                                                                                                                                                                                                                                                                                                                                                                                                                                                                                                      \n",
       "3  Basically there's a family where a little boy (Jake) thinks there's a zombie in his closet & his parents are fighting all the time.<br /><br />This movie is slower than a soap opera... and suddenly, Jake decides to become Rambo and kill the zombie.<br /><br />OK, first of all when you're going to make a film you must Decide if its a thriller or a drama! As a drama the movie is watchable. Parents are divorcing & arguing like in real life. And then we have Jake with his closet which totally ruins all the film! I expected to see a BOOGEYMAN similar movie, and instead i watched a drama with some meaningless thriller spots.<br /><br />3 out of 10 just for the well playing parents & descent dialogs. As for the shots with Jake: just ignore them.                                                                                                                                                                                                                                                                                                                                                                                                                                                                                                                                                                                                                                                                                                                                                                                                                                                                                                                                                                                                                                                        \n",
       "4  Petter Mattei's \"Love in the Time of Money\" is a visually stunning film to watch. Mr. Mattei offers us a vivid portrait about human relations. This is a movie that seems to be telling us what money, power and success do to people in the different situations we encounter. <br /><br />This being a variation on the Arthur Schnitzler's play about the same theme, the director transfers the action to the present time New York where all these different characters meet and connect. Each one is connected in one way, or another to the next person, but no one seems to know the previous point of contact. Stylishly, the film has a sophisticated luxurious look. We are taken to see how these people live and the world they live in their own habitat.<br /><br />The only thing one gets out of all these souls in the picture is the different stages of loneliness each one inhabits. A big city is not exactly the best place in which human relations find sincere fulfillment, as one discerns is the case with most of the people we encounter.<br /><br />The acting is good under Mr. Mattei's direction. Steve Buscemi, Rosario Dawson, Carol Kane, Michael Imperioli, Adrian Grenier, and the rest of the talented cast, make these characters come alive.<br /><br />We wish Mr. Mattei good luck and await anxiously for his next work.                                                                                                                                                                                                                                                                                                                                                                                                                                                               \n",
       "\n",
       "  sentiment  \n",
       "0  positive  \n",
       "1  positive  \n",
       "2  positive  \n",
       "3  negative  \n",
       "4  positive  "
      ]
     },
     "execution_count": 4,
     "metadata": {},
     "output_type": "execute_result"
    }
   ],
   "source": [
    "df.head()"
   ]
  },
  {
   "cell_type": "markdown",
   "id": "52b5a158",
   "metadata": {},
   "source": [
    "# Preprocessing"
   ]
  },
  {
   "cell_type": "code",
   "execution_count": 5,
   "id": "32aa900a",
   "metadata": {
    "ExecuteTime": {
     "end_time": "2024-03-16T08:17:24.485766Z",
     "start_time": "2024-03-16T08:17:24.483237Z"
    }
   },
   "outputs": [],
   "source": [
    "# Preprocessing Function \n",
    "\n",
    "def preprocessing(sentence):\n",
    "    sentence = sentence.replace(\"<br /><br />\",\"\")\n",
    "    sentence = re.sub('<[^<]+?>','', sentence)\n",
    "    sentence = sentence.strip()\n",
    "    sentence = sentence.lower()\n",
    "    sentence = ''.join(c for c in sentence if not c.isdigit())\n",
    "    \n",
    "    for pun in string.punctuation:\n",
    "        sentence = sentence.replace(pun, '')\n",
    "    tokens = word_tokenize(sentence)\n",
    "    \n",
    "    lem_word = [WordNetLemmatizer().lemmatize(word, pos='n') for word in [WordNetLemmatizer().lemmatize(words, pos='v') \n",
    "                                                                          for words in tokens]]\n",
    "    sentence =  ' '.join(lem_word)\n",
    "    \n",
    "    return sentence"
   ]
  },
  {
   "cell_type": "code",
   "execution_count": 6,
   "id": "9bfded04",
   "metadata": {
    "ExecuteTime": {
     "end_time": "2024-03-16T08:18:21.661761Z",
     "start_time": "2024-03-16T08:17:24.486476Z"
    }
   },
   "outputs": [
    {
     "name": "stdout",
     "output_type": "stream",
     "text": [
      "CPU times: user 56.7 s, sys: 36 ms, total: 56.7 s\n",
      "Wall time: 57.2 s\n"
     ]
    }
   ],
   "source": [
    "%%time\n",
    "df['cleaned_reviews'] = df['review'].apply(preprocessing)"
   ]
  },
  {
   "cell_type": "code",
   "execution_count": 7,
   "id": "433cd1d9",
   "metadata": {
    "ExecuteTime": {
     "end_time": "2024-03-16T08:18:21.668602Z",
     "start_time": "2024-03-16T08:18:21.662598Z"
    }
   },
   "outputs": [],
   "source": [
    "# Encoding target\n",
    "le = LabelEncoder()\n",
    "df.sentiment = le.fit_transform(df.sentiment)"
   ]
  },
  {
   "cell_type": "code",
   "execution_count": 8,
   "id": "3c9131a7",
   "metadata": {
    "ExecuteTime": {
     "end_time": "2024-03-16T08:18:21.672332Z",
     "start_time": "2024-03-16T08:18:21.669496Z"
    }
   },
   "outputs": [
    {
     "data": {
      "text/html": [
       "<div>\n",
       "<style scoped>\n",
       "    .dataframe tbody tr th:only-of-type {\n",
       "        vertical-align: middle;\n",
       "    }\n",
       "\n",
       "    .dataframe tbody tr th {\n",
       "        vertical-align: top;\n",
       "    }\n",
       "\n",
       "    .dataframe thead th {\n",
       "        text-align: right;\n",
       "    }\n",
       "</style>\n",
       "<table border=\"1\" class=\"dataframe\">\n",
       "  <thead>\n",
       "    <tr style=\"text-align: right;\">\n",
       "      <th></th>\n",
       "      <th>review</th>\n",
       "      <th>sentiment</th>\n",
       "      <th>cleaned_reviews</th>\n",
       "    </tr>\n",
       "  </thead>\n",
       "  <tbody>\n",
       "    <tr>\n",
       "      <th>0</th>\n",
       "      <td>One of the other reviewers has mentioned that after watching just 1 Oz episode you'll be hooked. They are right, as this is exactly what happened with me.&lt;br /&gt;&lt;br /&gt;The first thing that struck me about Oz was its brutality and unflinching scenes of violence, which set in right from the word GO. Trust me, this is not a show for the faint hearted or timid. This show pulls no punches with regards to drugs, sex or violence. Its is hardcore, in the classic use of the word.&lt;br /&gt;&lt;br /&gt;It is called OZ as that is the nickname given to the Oswald Maximum Security State Penitentary. It focuses mainly on Emerald City, an experimental section of the prison where all the cells have glass fronts and face inwards, so privacy is not high on the agenda. Em City is home to many..Aryans, Muslims, gangstas, Latinos, Christians, Italians, Irish and more....so scuffles, death stares, dodgy dealings and shady agreements are never far away.&lt;br /&gt;&lt;br /&gt;I would say the main appeal of the show is due to the fact that it goes where other shows wouldn't dare. Forget pretty pictures painted for mainstream audiences, forget charm, forget romance...OZ doesn't mess around. The first episode I ever saw struck me as so nasty it was surreal, I couldn't say I was ready for it, but as I watched more, I developed a taste for Oz, and got accustomed to the high levels of graphic violence. Not just violence, but injustice (crooked guards who'll be sold out for a nickel, inmates who'll kill on order and get away with it, well mannered, middle class inmates being turned into prison bitches due to their lack of street skills or prison experience) Watching Oz, you may become comfortable with what is uncomfortable viewing....thats if you can get in touch with your darker side.</td>\n",
       "      <td>1</td>\n",
       "      <td>one of the other reviewer have mention that after watch just oz episode youll be hook they be right a this be exactly what happen with methe first thing that strike me about oz be it brutality and unflinching scene of violence which set in right from the word go trust me this be not a show for the faint hearted or timid this show pull no punch with regard to drug sex or violence it be hardcore in the classic use of the wordit be call oz a that be the nickname give to the oswald maximum security state penitentary it focus mainly on emerald city an experimental section of the prison where all the cell have glass front and face inwards so privacy be not high on the agenda em city be home to manyaryans muslim gangsta latino christian italian irish and moreso scuffle death star dodgy deal and shady agreement be never far awayi would say the main appeal of the show be due to the fact that it go where other show wouldnt dare forget pretty picture paint for mainstream audience forget charm forget romanceoz doesnt mess around the first episode i ever saw strike me a so nasty it be surreal i couldnt say i be ready for it but a i watch more i develop a taste for oz and get accustom to the high level of graphic violence not just violence but injustice crook guard wholl be sell out for a nickel inmate wholl kill on order and get away with it well mannered middle class inmate be turn into prison bitch due to their lack of street skill or prison experience watch oz you may become comfortable with what be uncomfortable viewingthats if you can get in touch with your darker side</td>\n",
       "    </tr>\n",
       "  </tbody>\n",
       "</table>\n",
       "</div>"
      ],
      "text/plain": [
       "                                                                                                                                                                                                                                                                                                                                                                                                                                                                                                                                                                                                                                                                                                                                                                                                                                                                                                                                                                                                                                                                                                                                                                                                                                                                                                                                                                                                                                                                                                                                                                                                                                                                                                                                                                                                                              review  \\\n",
       "0  One of the other reviewers has mentioned that after watching just 1 Oz episode you'll be hooked. They are right, as this is exactly what happened with me.<br /><br />The first thing that struck me about Oz was its brutality and unflinching scenes of violence, which set in right from the word GO. Trust me, this is not a show for the faint hearted or timid. This show pulls no punches with regards to drugs, sex or violence. Its is hardcore, in the classic use of the word.<br /><br />It is called OZ as that is the nickname given to the Oswald Maximum Security State Penitentary. It focuses mainly on Emerald City, an experimental section of the prison where all the cells have glass fronts and face inwards, so privacy is not high on the agenda. Em City is home to many..Aryans, Muslims, gangstas, Latinos, Christians, Italians, Irish and more....so scuffles, death stares, dodgy dealings and shady agreements are never far away.<br /><br />I would say the main appeal of the show is due to the fact that it goes where other shows wouldn't dare. Forget pretty pictures painted for mainstream audiences, forget charm, forget romance...OZ doesn't mess around. The first episode I ever saw struck me as so nasty it was surreal, I couldn't say I was ready for it, but as I watched more, I developed a taste for Oz, and got accustomed to the high levels of graphic violence. Not just violence, but injustice (crooked guards who'll be sold out for a nickel, inmates who'll kill on order and get away with it, well mannered, middle class inmates being turned into prison bitches due to their lack of street skills or prison experience) Watching Oz, you may become comfortable with what is uncomfortable viewing....thats if you can get in touch with your darker side.   \n",
       "\n",
       "   sentiment  \\\n",
       "0  1           \n",
       "\n",
       "                                                                                                                                                                                                                                                                                                                                                                                                                                                                                                                                                                                                                                                                                                                                                                                                                                                                                                                                                                                                                                                                                                                                                                                                                                                                                                                                                                                                                                                                                                                                                                                                                                       cleaned_reviews  \n",
       "0  one of the other reviewer have mention that after watch just oz episode youll be hook they be right a this be exactly what happen with methe first thing that strike me about oz be it brutality and unflinching scene of violence which set in right from the word go trust me this be not a show for the faint hearted or timid this show pull no punch with regard to drug sex or violence it be hardcore in the classic use of the wordit be call oz a that be the nickname give to the oswald maximum security state penitentary it focus mainly on emerald city an experimental section of the prison where all the cell have glass front and face inwards so privacy be not high on the agenda em city be home to manyaryans muslim gangsta latino christian italian irish and moreso scuffle death star dodgy deal and shady agreement be never far awayi would say the main appeal of the show be due to the fact that it go where other show wouldnt dare forget pretty picture paint for mainstream audience forget charm forget romanceoz doesnt mess around the first episode i ever saw strike me a so nasty it be surreal i couldnt say i be ready for it but a i watch more i develop a taste for oz and get accustom to the high level of graphic violence not just violence but injustice crook guard wholl be sell out for a nickel inmate wholl kill on order and get away with it well mannered middle class inmate be turn into prison bitch due to their lack of street skill or prison experience watch oz you may become comfortable with what be uncomfortable viewingthats if you can get in touch with your darker side  "
      ]
     },
     "execution_count": 8,
     "metadata": {},
     "output_type": "execute_result"
    }
   ],
   "source": [
    "df.head(1)"
   ]
  },
  {
   "cell_type": "code",
   "execution_count": 9,
   "id": "d26f688c",
   "metadata": {
    "ExecuteTime": {
     "end_time": "2024-03-16T08:18:21.676523Z",
     "start_time": "2024-03-16T08:18:21.674890Z"
    }
   },
   "outputs": [],
   "source": [
    "X = df[\"cleaned_reviews\"]\n",
    "y = np.asarray(df['sentiment'])"
   ]
  },
  {
   "cell_type": "code",
   "execution_count": 10,
   "id": "aadf6c01",
   "metadata": {
    "ExecuteTime": {
     "end_time": "2024-03-16T08:18:21.681984Z",
     "start_time": "2024-03-16T08:18:21.677538Z"
    }
   },
   "outputs": [],
   "source": [
    "X_train, X_test, y_train, y_test = train_test_split(X, y, random_state=42, test_size=0.2)"
   ]
  },
  {
   "cell_type": "code",
   "execution_count": 11,
   "id": "db083faf",
   "metadata": {
    "ExecuteTime": {
     "end_time": "2024-03-16T08:18:21.684526Z",
     "start_time": "2024-03-16T08:18:21.682802Z"
    }
   },
   "outputs": [
    {
     "data": {
      "text/plain": [
       "(40000,)"
      ]
     },
     "execution_count": 11,
     "metadata": {},
     "output_type": "execute_result"
    }
   ],
   "source": [
    "X_train.shape"
   ]
  },
  {
   "cell_type": "code",
   "execution_count": 12,
   "id": "362a36dd",
   "metadata": {
    "ExecuteTime": {
     "end_time": "2024-03-16T08:18:21.687145Z",
     "start_time": "2024-03-16T08:18:21.685240Z"
    }
   },
   "outputs": [
    {
     "data": {
      "text/plain": [
       "(40000,)"
      ]
     },
     "execution_count": 12,
     "metadata": {},
     "output_type": "execute_result"
    }
   ],
   "source": [
    "y_train.shape"
   ]
  },
  {
   "cell_type": "markdown",
   "id": "106023b3",
   "metadata": {},
   "source": [
    "# Padding"
   ]
  },
  {
   "cell_type": "code",
   "execution_count": 13,
   "id": "44b924da",
   "metadata": {
    "ExecuteTime": {
     "end_time": "2024-03-16T08:18:21.690661Z",
     "start_time": "2024-03-16T08:18:21.688287Z"
    }
   },
   "outputs": [],
   "source": [
    "X_train = X_train.tolist()\n",
    "X_test = X_test.tolist()"
   ]
  },
  {
   "cell_type": "code",
   "execution_count": 14,
   "id": "6ef823e8",
   "metadata": {
    "ExecuteTime": {
     "end_time": "2024-03-16T08:18:22.139326Z",
     "start_time": "2024-03-16T08:18:21.691706Z"
    }
   },
   "outputs": [],
   "source": [
    "X_train_list = [word.split() for word in X_train]\n",
    "X_test_list = [word.split() for word in X_test]"
   ]
  },
  {
   "cell_type": "code",
   "execution_count": 15,
   "id": "e40a7ea0",
   "metadata": {
    "ExecuteTime": {
     "end_time": "2024-03-16T08:18:25.854114Z",
     "start_time": "2024-03-16T08:18:22.140310Z"
    }
   },
   "outputs": [],
   "source": [
    "tokenizer = Tokenizer()\n",
    "tokenizer.fit_on_texts(X_train_list)\n",
    "\n",
    "X_train_token = tokenizer.texts_to_sequences(X_train_list)\n",
    "X_test_token = tokenizer.texts_to_sequences(X_test_list)"
   ]
  },
  {
   "cell_type": "code",
   "execution_count": 16,
   "id": "44a09172",
   "metadata": {
    "ExecuteTime": {
     "end_time": "2024-03-16T08:18:27.497480Z",
     "start_time": "2024-03-16T08:18:25.855257Z"
    }
   },
   "outputs": [
    {
     "data": {
      "text/plain": [
       "['tokenizer.joblib']"
      ]
     },
     "execution_count": 16,
     "metadata": {},
     "output_type": "execute_result"
    }
   ],
   "source": [
    "joblib.dump(tokenizer, 'tokenizer.joblib')"
   ]
  },
  {
   "cell_type": "code",
   "execution_count": 17,
   "id": "732ba14f",
   "metadata": {
    "ExecuteTime": {
     "end_time": "2024-03-16T08:18:27.500495Z",
     "start_time": "2024-03-16T08:18:27.498272Z"
    }
   },
   "outputs": [
    {
     "data": {
      "text/plain": [
       "167202"
      ]
     },
     "execution_count": 17,
     "metadata": {},
     "output_type": "execute_result"
    }
   ],
   "source": [
    "vocab_size = len(tokenizer.word_index)\n",
    "vocab_size"
   ]
  },
  {
   "cell_type": "code",
   "execution_count": 18,
   "id": "b85f64bc",
   "metadata": {
    "ExecuteTime": {
     "end_time": "2024-03-16T08:18:27.507725Z",
     "start_time": "2024-03-16T08:18:27.501290Z"
    },
    "scrolled": true
   },
   "outputs": [
    {
     "data": {
      "text/plain": [
       "2441"
      ]
     },
     "execution_count": 18,
     "metadata": {},
     "output_type": "execute_result"
    }
   ],
   "source": [
    "# Identify the max lenght of review\n",
    "max_length = 0\n",
    "for review_number in range(len(X_train_token)):\n",
    "    numberofwords = len(X_train_token[review_number])\n",
    "    if numberofwords > max_length:\n",
    "        max_length = numberofwords\n",
    "max_length"
   ]
  },
  {
   "cell_type": "code",
   "execution_count": 19,
   "id": "9e2d3c40",
   "metadata": {
    "ExecuteTime": {
     "end_time": "2024-03-16T08:18:27.904985Z",
     "start_time": "2024-03-16T08:18:27.508407Z"
    }
   },
   "outputs": [
    {
     "name": "stdout",
     "output_type": "stream",
     "text": [
      "Shape of Padded Train Data: (40000, 2441)\n",
      "Shape of Padded Test Data: (10000, 2441)\n"
     ]
    }
   ],
   "source": [
    "X_train_pad = pad_sequences(X_train_token, maxlen=max_length)\n",
    "X_test_pad = pad_sequences(X_test_token, maxlen=max_length)\n",
    "\n",
    "print(\"Shape of Padded Train Data:\", X_train_pad.shape)\n",
    "print(\"Shape of Padded Test Data:\", X_test_pad.shape)"
   ]
  },
  {
   "cell_type": "markdown",
   "id": "86e086db",
   "metadata": {},
   "source": [
    "# Model defination"
   ]
  },
  {
   "cell_type": "code",
   "execution_count": 20,
   "id": "f3af5168",
   "metadata": {
    "ExecuteTime": {
     "end_time": "2024-03-16T08:18:27.908016Z",
     "start_time": "2024-03-16T08:18:27.905935Z"
    }
   },
   "outputs": [],
   "source": [
    "def initialize_model(input_dim, input_length, output_dim=30):\n",
    "    \n",
    "    model=Sequential([\n",
    "        Embedding(input_dim=input_dim, output_dim=output_dim, input_length=input_length),\n",
    "        LSTM(50),\n",
    "        Dense(20,activation='relu'),\n",
    "        Dense(1,activation='sigmoid')\n",
    "    ])\n",
    "    \n",
    "    \n",
    "    ### Model compilation\n",
    "    model.compile(loss='binary_crossentropy',\n",
    "              optimizer='adam',\n",
    "              metrics=['accuracy'])\n",
    "\n",
    "\n",
    "    return model"
   ]
  },
  {
   "cell_type": "markdown",
   "id": "b2d5a766",
   "metadata": {},
   "source": [
    "# Train the Model"
   ]
  },
  {
   "cell_type": "code",
   "execution_count": 21,
   "id": "e0925c2d",
   "metadata": {
    "ExecuteTime": {
     "end_time": "2024-03-16T08:18:28.056079Z",
     "start_time": "2024-03-16T08:18:27.908867Z"
    }
   },
   "outputs": [],
   "source": [
    "input_dim = vocab_size+1\n",
    "input_length = max_length\n",
    "model = initialize_model(input_dim, input_length)"
   ]
  },
  {
   "cell_type": "code",
   "execution_count": 22,
   "id": "fdaa52ce",
   "metadata": {
    "ExecuteTime": {
     "end_time": "2024-03-16T08:18:28.061913Z",
     "start_time": "2024-03-16T08:18:28.057033Z"
    },
    "scrolled": true
   },
   "outputs": [
    {
     "name": "stdout",
     "output_type": "stream",
     "text": [
      "Model: \"sequential\"\n",
      "_________________________________________________________________\n",
      " Layer (type)                Output Shape              Param #   \n",
      "=================================================================\n",
      " embedding (Embedding)       (None, 2441, 30)          5016090   \n",
      "                                                                 \n",
      " lstm (LSTM)                 (None, 50)                16200     \n",
      "                                                                 \n",
      " dense (Dense)               (None, 20)                1020      \n",
      "                                                                 \n",
      " dense_1 (Dense)             (None, 1)                 21        \n",
      "                                                                 \n",
      "=================================================================\n",
      "Total params: 5,033,331\n",
      "Trainable params: 5,033,331\n",
      "Non-trainable params: 0\n",
      "_________________________________________________________________\n"
     ]
    }
   ],
   "source": [
    "model.summary()"
   ]
  },
  {
   "cell_type": "code",
   "execution_count": 23,
   "id": "b42da8c6",
   "metadata": {
    "ExecuteTime": {
     "end_time": "2024-03-16T09:11:15.131655Z",
     "start_time": "2024-03-16T08:18:28.062687Z"
    }
   },
   "outputs": [
    {
     "name": "stdout",
     "output_type": "stream",
     "text": [
      "Epoch 1/10\n"
     ]
    },
    {
     "name": "stderr",
     "output_type": "stream",
     "text": [
      "2024-03-16 17:18:28.330580: W tensorflow/core/platform/profile_utils/cpu_utils.cc:128] Failed to get CPU frequency: 0 Hz\n"
     ]
    },
    {
     "name": "stdout",
     "output_type": "stream",
     "text": [
      "1000/1000 [==============================] - 417s 416ms/step - loss: 0.4300 - accuracy: 0.8026 - val_loss: 0.3369 - val_accuracy: 0.8577\n",
      "Epoch 2/10\n",
      "1000/1000 [==============================] - 420s 420ms/step - loss: 0.2090 - accuracy: 0.9213 - val_loss: 0.3333 - val_accuracy: 0.8731\n",
      "Epoch 3/10\n",
      "1000/1000 [==============================] - 420s 420ms/step - loss: 0.1138 - accuracy: 0.9605 - val_loss: 0.3761 - val_accuracy: 0.8664\n",
      "Epoch 4/10\n",
      "1000/1000 [==============================] - 652s 652ms/step - loss: 0.0730 - accuracy: 0.9757 - val_loss: 0.4385 - val_accuracy: 0.8656\n",
      "Epoch 5/10\n",
      "1000/1000 [==============================] - 420s 420ms/step - loss: 0.0582 - accuracy: 0.9802 - val_loss: 0.4985 - val_accuracy: 0.8637\n",
      "Epoch 6/10\n",
      "1000/1000 [==============================] - 417s 417ms/step - loss: 0.0390 - accuracy: 0.9866 - val_loss: 0.8094 - val_accuracy: 0.8534\n",
      "Epoch 7/10\n",
      "1000/1000 [==============================] - 420s 420ms/step - loss: 0.0239 - accuracy: 0.9924 - val_loss: 0.6391 - val_accuracy: 0.8537\n"
     ]
    }
   ],
   "source": [
    "es = EarlyStopping(patience=5, restore_best_weights=True)\n",
    "\n",
    "history = model.fit(X_train_pad, y_train,\n",
    "          epochs=10,\n",
    "          batch_size=32,\n",
    "          validation_split = 0.2,\n",
    "          callbacks=[es],\n",
    "          verbose=1)"
   ]
  },
  {
   "cell_type": "markdown",
   "id": "290320c9",
   "metadata": {},
   "source": [
    "# Evaluate the Model and Display the results"
   ]
  },
  {
   "cell_type": "code",
   "execution_count": 24,
   "id": "0411e469",
   "metadata": {
    "ExecuteTime": {
     "end_time": "2024-03-16T09:11:15.137446Z",
     "start_time": "2024-03-16T09:11:15.133305Z"
    }
   },
   "outputs": [],
   "source": [
    "def plot_loss_accuracy(history, title=None):\n",
    "    fig, ax = plt.subplots(1,2, figsize=(20,7))\n",
    "\n",
    "    # --- LOSS ---\n",
    "\n",
    "    ax[0].plot(history.history['loss'])\n",
    "    ax[0].plot(history.history['val_loss'])\n",
    "    ax[0].set_title('Model loss')\n",
    "    ax[0].set_ylabel('Loss')\n",
    "    ax[0].set_xlabel('Epoch')\n",
    "    ax[0].set_ylim((0,3))\n",
    "    ax[0].legend(['Train', 'Validation'], loc='best')\n",
    "    ax[0].grid(axis=\"x\",linewidth=0.5)\n",
    "    ax[0].grid(axis=\"y\",linewidth=0.5)\n",
    "\n",
    "    # --- ACCURACY ---\n",
    "\n",
    "    ax[1].plot(history.history['accuracy'])\n",
    "    ax[1].plot(history.history['val_accuracy'])\n",
    "    ax[1].set_title('Model Accuracy')\n",
    "    ax[1].set_ylabel('Accuracy')\n",
    "    ax[1].set_xlabel('Epoch')\n",
    "    ax[1].legend(['Train', 'Validation'], loc='best')\n",
    "    ax[1].set_ylim((0,1))\n",
    "    ax[1].grid(axis=\"x\",linewidth=0.5)\n",
    "    ax[1].grid(axis=\"y\",linewidth=0.5)\n",
    "\n",
    "    if title:\n",
    "        fig.suptitle(title)"
   ]
  },
  {
   "cell_type": "code",
   "execution_count": 25,
   "id": "f3351564",
   "metadata": {
    "ExecuteTime": {
     "end_time": "2024-03-16T09:11:15.333472Z",
     "start_time": "2024-03-16T09:11:15.138692Z"
    }
   },
   "outputs": [
    {
     "data": {
      "image/png": "[encoded data removed]",
      "text/plain": [
       "<Figure size 2000x700 with 2 Axes>"
      ]
     },
     "metadata": {},
     "output_type": "display_data"
    }
   ],
   "source": [
    "plot_loss_accuracy(history, title=None)"
   ]
  },
  {
   "cell_type": "code",
   "execution_count": 26,
   "id": "87ce68e6",
   "metadata": {
    "ExecuteTime": {
     "end_time": "2024-03-16T09:11:41.266112Z",
     "start_time": "2024-03-16T09:11:15.334375Z"
    }
   },
   "outputs": [
    {
     "name": "stdout",
     "output_type": "stream",
     "text": [
      "313/313 [==============================] - 26s 82ms/step - loss: 0.3070 - accuracy: 0.8832\n",
      "Model accuracy is 88.32 %\n"
     ]
    }
   ],
   "source": [
    "evaluation = model.evaluate(X_test_pad, y_test)\n",
    "print(f'Model accuracy is {round(evaluation[1]*100,2)} %')"
   ]
  },
  {
   "cell_type": "code",
   "execution_count": 27,
   "id": "0f77f47c",
   "metadata": {
    "ExecuteTime": {
     "end_time": "2024-03-16T09:12:07.141355Z",
     "start_time": "2024-03-16T09:11:41.269995Z"
    },
    "scrolled": true
   },
   "outputs": [
    {
     "name": "stdout",
     "output_type": "stream",
     "text": [
      "313/313 [==============================] - 26s 82ms/step\n"
     ]
    }
   ],
   "source": [
    "y_pred = model.predict(X_test_pad)"
   ]
  },
  {
   "cell_type": "code",
   "execution_count": 28,
   "id": "91cbda22",
   "metadata": {
    "ExecuteTime": {
     "end_time": "2024-03-16T09:12:07.144557Z",
     "start_time": "2024-03-16T09:12:07.142332Z"
    }
   },
   "outputs": [
    {
     "data": {
      "text/plain": [
       "array([[0.00495519],\n",
       "       [0.9694232 ],\n",
       "       [0.02584473],\n",
       "       ...,\n",
       "       [0.9778425 ],\n",
       "       [0.01835246],\n",
       "       [0.95650464]], dtype=float32)"
      ]
     },
     "execution_count": 28,
     "metadata": {},
     "output_type": "execute_result"
    }
   ],
   "source": [
    "y_pred"
   ]
  },
  {
   "cell_type": "markdown",
   "id": "e06cd38c",
   "metadata": {},
   "source": [
    "# Save the Model"
   ]
  },
  {
   "cell_type": "code",
   "execution_count": 29,
   "id": "88d8741f",
   "metadata": {
    "ExecuteTime": {
     "end_time": "2024-03-16T09:12:07.179160Z",
     "start_time": "2024-03-16T09:12:07.145328Z"
    }
   },
   "outputs": [],
   "source": [
    "model.save('rnn_model.h5')"
   ]
  },
  {
   "cell_type": "code",
   "execution_count": 30,
   "id": "a32f0ca3",
   "metadata": {
    "ExecuteTime": {
     "end_time": "2024-03-16T09:12:07.350574Z",
     "start_time": "2024-03-16T09:12:07.180100Z"
    }
   },
   "outputs": [],
   "source": [
    " #load it somewhere else:\n",
    "loaded_model = models.load_model('rnn_model.h5')"
   ]
  },
  {
   "cell_type": "code",
   "execution_count": 31,
   "id": "7bec4ffd",
   "metadata": {
    "ExecuteTime": {
     "end_time": "2024-03-16T09:12:07.579855Z",
     "start_time": "2024-03-16T09:12:07.351478Z"
    }
   },
   "outputs": [
    {
     "name": "stdout",
     "output_type": "stream",
     "text": [
      "1/1 [==============================] - 0s 210ms/step\n"
     ]
    },
    {
     "data": {
      "text/plain": [
       "array([[0.00495519],\n",
       "       [0.9694232 ],\n",
       "       [0.02584473],\n",
       "       [0.9714854 ],\n",
       "       [0.01300135],\n",
       "       [0.97595614],\n",
       "       [0.9441029 ],\n",
       "       [0.01371467],\n",
       "       [0.02333857],\n",
       "       [0.00898713]], dtype=float32)"
      ]
     },
     "execution_count": 31,
     "metadata": {},
     "output_type": "execute_result"
    }
   ],
   "source": [
    "loaded_model.predict(X_test_pad[0:10])"
   ]
  },
  {
   "cell_type": "code",
   "execution_count": 32,
   "id": "308c78f7",
   "metadata": {
    "ExecuteTime": {
     "end_time": "2024-03-16T09:12:07.582972Z",
     "start_time": "2024-03-16T09:12:07.580846Z"
    }
   },
   "outputs": [
    {
     "data": {
      "text/plain": [
       "array([1, 1, 0, 1, 0, 1, 1, 1, 0, 0])"
      ]
     },
     "execution_count": 32,
     "metadata": {},
     "output_type": "execute_result"
    }
   ],
   "source": [
    "y_test[:10]"
   ]
  },
  {
   "cell_type": "code",
   "execution_count": null,
   "id": "9a68eb06",
   "metadata": {},
   "outputs": [],
   "source": []
  },
  {
   "cell_type": "code",
   "execution_count": null,
   "id": "dc61909f",
   "metadata": {},
   "outputs": [],
   "source": []
  }
 ],
 "metadata": {
  "kernelspec": {
   "display_name": "ml_env",
   "language": "python",
   "name": "ml_env"
  },
  "language_info": {
   "codemirror_mode": {
    "name": "ipython",
    "version": 3
   },
   "file_extension": ".py",
   "mimetype": "text/x-python",
   "name": "python",
   "nbconvert_exporter": "python",
   "pygments_lexer": "ipython3",
   "version": "3.10.6"
  },
  "toc": {
   "base_numbering": 1,
   "nav_menu": {},
   "number_sections": true,
   "sideBar": true,
   "skip_h1_title": false,
   "title_cell": "Table of Contents",
   "title_sidebar": "Contents",
   "toc_cell": false,
   "toc_position": {
    "height": "calc(100% - 180px)",
    "left": "10px",
    "top": "150px",
    "width": "269.398px"
   },
   "toc_section_display": true,
   "toc_window_display": true
  }
 },
 "nbformat": 4,
 "nbformat_minor": 5
}
