{
 "cells": [
  {
   "cell_type": "markdown",
   "id": "b607dbbd",
   "metadata": {},
   "source": [
    "## Import the necessary libraries"
   ]
  },
  {
   "cell_type": "code",
   "execution_count": 2,
   "id": "015d1dc1",
   "metadata": {},
   "outputs": [],
   "source": [
    "import pandas as pd"
   ]
  },
  {
   "cell_type": "markdown",
   "id": "7511ac6f",
   "metadata": {},
   "source": [
    "## Import the  \"netflix_titles\" dataset\n"
   ]
  },
  {
   "cell_type": "markdown",
   "id": "f24cfa55",
   "metadata": {},
   "source": [
    "## See the first 25 entries"
   ]
  },
  {
   "cell_type": "markdown",
   "id": "5a48a548",
   "metadata": {},
   "source": [
    "## See the last 10 entries"
   ]
  },
  {
   "cell_type": "markdown",
   "id": "087db8dc",
   "metadata": {},
   "source": [
    "## What is the number of observations in the dataset?"
   ]
  },
  {
   "cell_type": "markdown",
   "id": "4383e09f",
   "metadata": {},
   "source": [
    "## What is the number of columns in the dataset?"
   ]
  },
  {
   "cell_type": "markdown",
   "id": "3b2da7e2",
   "metadata": {},
   "source": [
    "## Print the name of all the columns."
   ]
  },
  {
   "cell_type": "markdown",
   "id": "d1473125",
   "metadata": {
    "ExecuteTime": {
     "end_time": "2023-10-15T03:20:03.887495Z",
     "start_time": "2023-10-15T03:20:03.859651Z"
    }
   },
   "source": [
    "## What is the data type of each column?"
   ]
  },
  {
   "cell_type": "markdown",
   "id": "6ae8c5c4",
   "metadata": {},
   "source": [
    "## Print only the \"title\" column"
   ]
  },
  {
   "cell_type": "markdown",
   "id": "3d9991de",
   "metadata": {},
   "source": [
    "## How many different country are in this dataset?"
   ]
  },
  {
   "cell_type": "markdown",
   "id": "3bb93fd7",
   "metadata": {},
   "source": [
    "## What is the most frequent movie Type?"
   ]
  },
  {
   "cell_type": "markdown",
   "id": "687a7f83",
   "metadata": {},
   "source": [
    "## Summarize the DataFrame"
   ]
  },
  {
   "cell_type": "markdown",
   "id": "4ff84287",
   "metadata": {},
   "source": [
    "## Summarize all the columns"
   ]
  },
  {
   "cell_type": "markdown",
   "id": "86245aac",
   "metadata": {},
   "source": [
    "## Summarize only the \"country\" column"
   ]
  },
  {
   "cell_type": "markdown",
   "id": "deac9cee",
   "metadata": {},
   "source": [
    "## Can you tell us the columns names that contain  NULL data "
   ]
  },
  {
   "cell_type": "markdown",
   "id": "828cd7ef",
   "metadata": {},
   "source": [
    "## Display only \"title\" and \"duration\" columns"
   ]
  },
  {
   "cell_type": "markdown",
   "id": "b83665a5",
   "metadata": {},
   "source": [
    "## Convert the duration column values to integer format, and override the values of the original columns.\n",
    "\n",
    "Example -> 90 min(string) -> 90(integer)"
   ]
  },
  {
   "cell_type": "markdown",
   "id": "ab5e285a",
   "metadata": {},
   "source": [
    "## What is the mean duration of the movies?"
   ]
  },
  {
   "cell_type": "markdown",
   "id": "1bc5e975",
   "metadata": {},
   "source": [
    "## What is the duration with least occurrence?"
   ]
  },
  {
   "cell_type": "markdown",
   "id": "362134f1",
   "metadata": {},
   "source": [
    "## Sort the dataframe according to released year in ascending order."
   ]
  },
  {
   "cell_type": "markdown",
   "id": "be364a96",
   "metadata": {},
   "source": [
    "## Can you describe the number of movies released in each country per year ?"
   ]
  },
  {
   "cell_type": "markdown",
   "id": "3e5f190a",
   "metadata": {
    "ExecuteTime": {
     "end_time": "2023-10-15T03:50:27.830170Z",
     "start_time": "2023-10-15T03:50:27.802192Z"
    }
   },
   "source": [
    "## Describe the movies names that are avaliable to watch in more than one country.\n"
   ]
  },
  {
   "cell_type": "code",
   "execution_count": null,
   "id": "6e445643",
   "metadata": {},
   "outputs": [],
   "source": []
  },
  {
   "cell_type": "markdown",
   "id": "92803b2d",
   "metadata": {
    "ExecuteTime": {
     "end_time": "2023-10-15T03:52:49.858655Z",
     "start_time": "2023-10-15T03:52:49.830559Z"
    }
   },
   "source": [
    "## List the top 10 directors who have produced the most movies."
   ]
  },
  {
   "cell_type": "code",
   "execution_count": null,
   "id": "3e543e09",
   "metadata": {},
   "outputs": [],
   "source": []
  }
 ],
 "metadata": {
  "kernelspec": {
   "display_name": "Python 3 (ipykernel)",
   "language": "python",
   "name": "python3"
  },
  "language_info": {
   "codemirror_mode": {
    "name": "ipython",
    "version": 3
   },
   "file_extension": ".py",
   "mimetype": "text/x-python",
   "name": "python",
   "nbconvert_exporter": "python",
   "pygments_lexer": "ipython3",
   "version": "3.11.5"
  },
  "toc": {
   "base_numbering": 1,
   "nav_menu": {},
   "number_sections": true,
   "sideBar": true,
   "skip_h1_title": false,
   "title_cell": "Table of Contents",
   "title_sidebar": "Contents",
   "toc_cell": false,
   "toc_position": {},
   "toc_section_display": true,
   "toc_window_display": false
  },
  "varInspector": {
   "cols": {
    "lenName": 16,
    "lenType": 16,
    "lenVar": 40
   },
   "kernels_config": {
    "python": {
     "delete_cmd_postfix": "",
     "delete_cmd_prefix": "del ",
     "library": "var_list.py",
     "varRefreshCmd": "print(var_dic_list())"
    },
    "r": {
     "delete_cmd_postfix": ") ",
     "delete_cmd_prefix": "rm(",
     "library": "var_list.r",
     "varRefreshCmd": "cat(var_dic_list()) "
    }
   },
   "types_to_exclude": [
    "module",
    "function",
    "builtin_function_or_method",
    "instance",
    "_Feature"
   ],
   "window_display": false
  }
 },
 "nbformat": 4,
 "nbformat_minor": 5
}
